{
 "cells": [
  {
   "cell_type": "code",
   "execution_count": 32,
   "id": "fa391da2",
   "metadata": {},
   "outputs": [],
   "source": [
    "import os\n",
    "import pandas as pd\n",
    "\n",
    "# import all the training and testing data into a dataframe where 1 is positive, 0 is negative\n",
    "\n",
    "def read_review_files(folder_path):\n",
    "    df = pd.DataFrame({'Review': [], 'Category': []})\n",
    "    folders = ['neg', 'pos']\n",
    "    \n",
    "    for f in folders:\n",
    "        path  = os.path.join(folder_path, f)\n",
    "        output = 1\n",
    "        if f == 'neg': \n",
    "            output = 0\n",
    "        for file in os.listdir(path):\n",
    "            new_row = {'Review': open(f\"{path}/{file}\", 'r').read(), 'Category': output}\n",
    "            df.loc[len(df)] = new_row\n",
    "    return df\n",
    "\n",
    "train_data_raw = read_review_files('./aclImdb/train')\n",
    "test_data_raw = read_review_files('./aclImdb/test')"
   ]
  },
  {
   "cell_type": "code",
   "execution_count": 33,
   "id": "212255cc",
   "metadata": {},
   "outputs": [
    {
     "data": {
      "text/plain": [
       "0        0\n",
       "1        0\n",
       "2        0\n",
       "3        0\n",
       "4        0\n",
       "        ..\n",
       "24995    1\n",
       "24996    1\n",
       "24997    1\n",
       "24998    1\n",
       "24999    1\n",
       "Name: Category, Length: 25000, dtype: int64"
      ]
     },
     "execution_count": 33,
     "metadata": {},
     "output_type": "execute_result"
    }
   ],
   "source": [
    "test_data_raw['Category']"
   ]
  },
  {
   "cell_type": "code",
   "execution_count": 34,
   "id": "7d9dacad",
   "metadata": {},
   "outputs": [],
   "source": [
    "def preprocess_input(df):\n",
    "    new_df = df.copy()\n",
    "    # remove all the special characters\n",
    "    # df['Review'] = re.sub('[^A-Za-z\\s]+', \"\", df['Review'])\n",
    "    new_df['Review'] = new_df['Review'].str.replace('[^0-9A-Za-z\\s]+', '', regex = True)\n",
    "    # remove all the leading and tailing spaces\n",
    "    new_df['Review'] = new_df['Review'].str.strip()\n",
    "    # convert all the text into lower case\n",
    "    new_df['Review'] = new_df['Review'].str.lower()\n",
    "    \n",
    "    return new_df\n",
    "\n",
    "train_data = preprocess_input(train_data_raw)\n",
    "test_data = preprocess_input(test_data_raw)"
   ]
  },
  {
   "cell_type": "code",
   "execution_count": 35,
   "id": "747755d6",
   "metadata": {},
   "outputs": [
    {
     "data": {
      "text/plain": [
       "'when hollywood is trying to grasp what an intelligent person is like they fail so miserably finding it hard putting words in the mouth of the purported geniusbr br right any genius walks around trying to rub in his superiority at every instance sure they hang out in bars and pick fights  its not like they are generalizing wildly autistic nerds who never have a tanbr br plus if you are a genius you know all about math and history and politics and of course youre constantly up to date with current events and a thorough analysis of them coz these things like all go together n stuff yknowbr br plus you walk around with a smirk all the time you are just a smug son of a youknowwhat thats how it is yall br br and of course you smoke like someone who never smoked before but you smoke coz its like cool n stuff yknow and youre different that is understoodbr br and of course you can fight  youre a bully a bully who finds time to study 10000 books whenever he doesnt lift weights and whenever he doesnt smoke or drink beer because he follows a strict health regimenbr br and you date a 30something college student  minnie driver well i wont even comment matt damon team america has hit the nail on the head alreadybr br this movie is a daydream of a beavis  butthead type student in other words 95 of them yeah thats what i would be like if i was a genius but stupid people and stupid authors in this case cannot imagine the lives of geniuses'"
      ]
     },
     "execution_count": 35,
     "metadata": {},
     "output_type": "execute_result"
    }
   ],
   "source": [
    "test_data.loc[8]['Review']"
   ]
  },
  {
   "cell_type": "code",
   "execution_count": 36,
   "id": "4791f3c7",
   "metadata": {},
   "outputs": [],
   "source": [
    "import tensorflow as tf\n",
    "from tensorflow import keras\n",
    "\n",
    "tokenizer = keras.preprocessing.text.Tokenizer()\n",
    "# update internal vocabulary based on a list of texts\n",
    "tokenizer.fit_on_texts(train_data['Review'])\n",
    "# transform training and testing input data into sequence of integers\n",
    "input_test = tokenizer.texts_to_sequences(test_data['Review'])\n",
    "# pad the input data so that every input is of the same size\n",
    "input_test = keras.preprocessing.sequence.pad_sequences(input_test)"
   ]
  },
  {
   "cell_type": "code",
   "execution_count": 37,
   "id": "da1bec21",
   "metadata": {},
   "outputs": [
    {
     "name": "stdout",
     "output_type": "stream",
     "text": [
      "782/782 [==============================] - 23s 29ms/step - loss: 0.5323 - accuracy: 0.8458\n"
     ]
    }
   ],
   "source": [
    "# load the generated model\n",
    "network = tf.keras.models.load_model(\"./models/20591615_NLP_model.h5\")\n",
    "\n",
    "test_result = network.evaluate(input_test, test_data['Category'])"
   ]
  },
  {
   "cell_type": "code",
   "execution_count": null,
   "id": "a596854d",
   "metadata": {},
   "outputs": [],
   "source": []
  },
  {
   "cell_type": "code",
   "execution_count": null,
   "id": "5fd91389",
   "metadata": {},
   "outputs": [],
   "source": []
  }
 ],
 "metadata": {
  "kernelspec": {
   "display_name": "Python 3 (ipykernel)",
   "language": "python",
   "name": "python3"
  },
  "language_info": {
   "codemirror_mode": {
    "name": "ipython",
    "version": 3
   },
   "file_extension": ".py",
   "mimetype": "text/x-python",
   "name": "python",
   "nbconvert_exporter": "python",
   "pygments_lexer": "ipython3",
   "version": "3.11.4"
  }
 },
 "nbformat": 4,
 "nbformat_minor": 5
}
